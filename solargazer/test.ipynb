{
 "cells": [
  {
   "cell_type": "code",
   "execution_count": 1,
   "metadata": {},
   "outputs": [],
   "source": [
    "import pandas as pd\n",
    "from linearmodels.datasets import wage_panel\n",
    "\n",
    "data = wage_panel.load()\n",
    "year = pd.Categorical(data.year)\n",
    "data = data.set_index([\"nr\", \"year\"])\n",
    "data[\"year\"] = year"
   ]
  },
  {
   "cell_type": "code",
   "execution_count": 3,
   "metadata": {},
   "outputs": [],
   "source": [
    "from linearmodels.panel import PooledOLS"
   ]
  },
  {
   "cell_type": "code",
   "execution_count": 5,
   "metadata": {},
   "outputs": [],
   "source": [
    "from linearmodels.panel import PanelOLS\n",
    "\n",
    "exog_vars = [\"expersq\", \"union\", \"married\"]\n",
    "exog = data[exog_vars]\n",
    "mod = PanelOLS(data.lwage, exog, entity_effects=True, time_effects= True)\n",
    "model1 = mod.fit()"
   ]
  },
  {
   "cell_type": "code",
   "execution_count": 6,
   "metadata": {},
   "outputs": [],
   "source": [
    "mod = PanelOLS(data.lwage, exog, entity_effects=False, time_effects=True)\n",
    "model2 = mod.fit()"
   ]
  },
  {
   "cell_type": "code",
   "execution_count": 7,
   "metadata": {},
   "outputs": [],
   "source": [
    "exog_vars = [\"expersq\", \"married\", \"year\"]\n",
    "exog = data[exog_vars]\n",
    "mod = PanelOLS(data.lwage, exog, entity_effects=True)\n",
    "model3 = mod.fit()"
   ]
  },
  {
   "cell_type": "code",
   "execution_count": 9,
   "metadata": {},
   "outputs": [
    {
     "name": "stdout",
     "output_type": "stream",
     "text": [
      "\\begin{threeparttable}\n",
      "\\begin{tabular}{lccc}\n",
      "\\toprule\n",
      "& \\multicolumn{2}{c}{Group 1} & \\multicolumn{1}{c}{Group 2} \\\\\n",
      "\\cmidrule(lr){2-3}\\cmidrule(lr){4-4}\n",
      "& model 1 & model 2 & model 3 \\\\\n",
      "\\midrule\n",
      "expersq & -0.005$^{***}$ & -0.002$^{***}$ & -0.005$^{***}$\\\\\n",
      "& (0.001) & (0.000) & (0.001)\\\\\n",
      "married & 0.047$^{**}$ & 0.152$^{***}$ & 0.049$^{***}$\\\\\n",
      "& (0.018) & (0.016) & (0.018)\\\\\n",
      "union & 0.080$^{***}$ & 0.177$^{***}$ & \\\\\n",
      "& (0.019) & (0.018) & \\\\\n",
      "year.1981 &  &  & 0.151$^{***}$\\\\\n",
      "&  &  & (0.022)\\\\\n",
      "year.1982 &  &  & 0.254$^{***}$\\\\\n",
      "&  &  & (0.024)\\\\\n",
      "year.1983 &  &  & 0.355$^{***}$\\\\\n",
      "&  &  & (0.029)\\\\\n",
      "year.1984 &  &  & 0.492$^{***}$\\\\\n",
      "&  &  & (0.036)\\\\\n",
      "year.1985 &  &  & 0.618$^{***}$\\\\\n",
      "&  &  & (0.045)\\\\\n",
      "year.1986 &  &  & 0.766$^{***}$\\\\\n",
      "&  &  & (0.056)\\\\\n",
      "year.1987 &  &  & 0.931$^{***}$\\\\\n",
      "&  &  & (0.069)\\\\\n",
      "\\midrule\n",
      "Time FE & \\checkmark & \\checkmark &  \\\\\n",
      "Entity FE & \\checkmark &  & \\checkmark \\\\\n",
      "R-Squared & 0.022 & 0.053 & 0.177 \\\\\n",
      "Number of Observations & 4360 & 4360 & 4360 \\\\\n",
      "Standard Errors & Unadjusted & Unadjusted & Unadjusted \\\\\n",
      "\\bottomrule\n",
      "\\end{tabular}\n",
      "\\begin{tablenotes}\n",
      "\\small\n",
      "\\item Note: Standard errors in parentheses. * p$<$0.05, ** p$<$0.01, *** p$<$0.001.\n",
      "\\end{tablenotes}\n",
      "\\end{threeparttable}\n",
      "\n"
     ]
    }
   ],
   "source": [
    "from solargazer.solargazer import SolarGazer\n",
    "SolarGazer().make_table([model1, model2, model3],['model 1','model 2','model 3'], groupings = {'Group 1':[model1, model2],'Group 2':[model3]})"
   ]
  }
 ],
 "metadata": {
  "kernelspec": {
   "display_name": "base",
   "language": "python",
   "name": "python3"
  },
  "language_info": {
   "codemirror_mode": {
    "name": "ipython",
    "version": 3
   },
   "file_extension": ".py",
   "mimetype": "text/x-python",
   "name": "python",
   "nbconvert_exporter": "python",
   "pygments_lexer": "ipython3",
   "version": "3.8.5"
  }
 },
 "nbformat": 4,
 "nbformat_minor": 2
}
